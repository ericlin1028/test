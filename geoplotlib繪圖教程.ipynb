{
 "cells": [
  {
   "cell_type": "markdown",
   "metadata": {},
   "source": [
    "## geoplotlib\n",
    "\n",
    "Basemap和Cartopy包支援多個地理投影，並提供一些視覺化效果，包括點圖、熱圖、等高線圖和形狀檔案。PySAL是一個由Python編寫的空間分析函式的開源庫，它提供了許多基本的工具，主要用於形狀檔案。但是，這些庫不允許使用者繪製地圖貼圖，並且對自定義視覺化、互動性和動畫的支援有限。\n",
    "\n",
    "geoplotlib是python的一個用於地理資料視覺化和繪製地圖的工具箱，並提供了一個原始資料和所有視覺化之間的基本介面，支援在純python中開發硬體加速的互動式視覺化，並提供點對映、核心密度估計、空間圖、泰森多邊形圖、形狀檔案和許多更常見的空間視覺化的實現。除了為常用的地理資料視覺化提供內建的視覺化功能外，geoplotlib還允許通過定義定製層來定義複雜的資料視覺化（繪製OpenGL，如分數、行和具有高效能的多邊形），建立動畫。 \n",
    "\n",
    "\n",
    "### - 安裝\n",
    "\n",
    "    pip install geoplotlib\n",
    "   \n",
    "   \n",
    "### - 使用\n"
   ]
  },
  {
   "cell_type": "code",
   "execution_count": null,
   "metadata": {},
   "outputs": [],
   "source": [
    "'''\n",
    "可能還需安裝:\n",
    "pip install pyglet\n",
    "'''\n",
    "# 匯入所需模組\n",
    "from geoplotlib.layers import DelaunayLayer , BaseLayer\n",
    "import geoplotlib \n",
    "from geoplotlib.utils import read_csv, BoundingBox\n",
    "from geoplotlib.core import BatchPainter"
   ]
  },
  {
   "cell_type": "code",
   "execution_count": null,
   "metadata": {},
   "outputs": [],
   "source": [
    "data = read_csv('data/flights.csv') \n",
    "data.dict"
   ]
  },
  {
   "cell_type": "code",
   "execution_count": null,
   "metadata": {},
   "outputs": [],
   "source": [
    "geoplotlib.graph(data,\n",
    "                 src_lat='lat_departure',\n",
    "                 src_lon='lon_departure',\n",
    "                 dest_lat='lat_arrival',\n",
    "                 dest_lon='lon_arrival',\n",
    "                 color='hot_r',\n",
    "                 alpha=16,\n",
    "                 linewidth=2)\n",
    "geoplotlib.show()\n"
   ]
  },
  {
   "cell_type": "markdown",
   "metadata": {},
   "source": [
    "### 鍵盤控制\n",
    "\n",
    "- P: 螢幕截圖\n",
    "- M: 圖磚切換\n",
    "- L: 圖層切換\n",
    "- I/O: 放大縮小\n",
    "- A/D: 左右\n",
    "- W/S: 上下"
   ]
  },
  {
   "cell_type": "markdown",
   "metadata": {},
   "source": [
    "### 客製化圖層"
   ]
  },
  {
   "cell_type": "code",
   "execution_count": null,
   "metadata": {},
   "outputs": [],
   "source": [
    "class CustomLayer(BaseLayer):\n",
    "\n",
    "    def __init__(self, data):\n",
    "        self.data = data\n",
    "\n",
    "    def invalidate(self, proj):\n",
    "        x, y = proj.lonlat_to_screen(self.data['lon_departure'], self.data['lat_departure'])\n",
    "        self.painter = BatchPainter()\n",
    "        self.painter.points(x, y)\n",
    "\n",
    "    def draw(self, proj, mouse_x, mouse_y, ui_manager):\n",
    "        self.painter.batch_draw()\n",
    "\n",
    "geoplotlib.add_layer(CustomLayer(data))\n",
    "geoplotlib.show()"
   ]
  },
  {
   "cell_type": "markdown",
   "metadata": {},
   "source": [
    "### 客製化動畫"
   ]
  },
  {
   "cell_type": "code",
   "execution_count": null,
   "metadata": {},
   "outputs": [],
   "source": [
    "class AnimatedLayer(BaseLayer):\n",
    "\n",
    "    def __init__(self, data):\n",
    "        self.data = data\n",
    "        self.frame_counter = 0\n",
    "\n",
    "    def invalidate(self, proj):\n",
    "        self.x, self.y = proj.lonlat_to_screen(self.data['lon_departure'], self.data['lat_departure'])\n",
    "\n",
    "\n",
    "    def draw(self, proj, mouse_x, mouse_y, ui_manager):\n",
    "        self.painter = BatchPainter()\n",
    "        self.painter.points(self.x[:self.frame_counter],\n",
    "                      self.y[:self.frame_counter])\n",
    "        self.painter.batch_draw()\n",
    "        self.frame_counter += 1\n",
    "\n",
    "geoplotlib.add_layer(AnimatedLayer(data))\n",
    "geoplotlib.show()"
   ]
  },
  {
   "cell_type": "code",
   "execution_count": null,
   "metadata": {},
   "outputs": [],
   "source": [
    "class AnimatedLayer(BaseLayer):\n",
    "\n",
    "    def __init__(self, data):\n",
    "        self.data = data\n",
    "        self.frame_counter = 0\n",
    "\n",
    "    def invalidate(self, proj):\n",
    "        self.painter = BatchPainter()\n",
    "        self.x1, self.y1 = proj.lonlat_to_screen(self.data['lon_departure'], self.data['lat_departure'])\n",
    "        self.x2, self.y2= proj.lonlat_to_screen(self.data['lon_arrival'], self.data['lat_arrival'])\n",
    "\n",
    "    def draw(self, proj, mouse_x, mouse_y, ui_manager):\n",
    "        \n",
    "        self.painter.lines(self.x1[self.frame_counter], \n",
    "                           self.y1[self.frame_counter], \n",
    "                           self.x2[self.frame_counter], \n",
    "                           self.y2[self.frame_counter])\n",
    "\n",
    "        self.painter.batch_draw()\n",
    "        self.frame_counter += 1\n",
    "\n",
    "geoplotlib.add_layer(AnimatedLayer(data))\n",
    "geoplotlib.show()"
   ]
  },
  {
   "cell_type": "markdown",
   "metadata": {},
   "source": [
    "### - 參考資料\n",
    "* https://itw01.com/2Q6OEHA.html\n",
    "* https://zdoc.site/geoplotlib-a-python-toolbox-for-visualizing-geographical-dat.html\n",
    "* https://github.com/andrea-cuttone/geoplotlib"
   ]
  }
 ],
 "metadata": {
  "kernelspec": {
   "display_name": "Python 3",
   "language": "python",
   "name": "python3"
  },
  "language_info": {
   "codemirror_mode": {
    "name": "ipython",
    "version": 3
   },
   "file_extension": ".py",
   "mimetype": "text/x-python",
   "name": "python",
   "nbconvert_exporter": "python",
   "pygments_lexer": "ipython3",
   "version": "3.6.6"
  }
 },
 "nbformat": 4,
 "nbformat_minor": 2
}
