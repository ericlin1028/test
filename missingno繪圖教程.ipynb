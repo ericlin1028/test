{
 "cells": [
  {
   "cell_type": "markdown",
   "metadata": {},
   "source": [
    "## missingno   (require python3)\n",
    "\n",
    "沒有高質量的資料，就沒有高質量的資料探勘結果，當我們做監督學習演算法，難免會碰到混亂的資料集，缺失的值，當缺失比例很小時，可直接對缺失記錄進行捨棄或進行手工處理，missingno提供了一個小型的靈活的、易於使用的資料視覺化和實用工具集，用影象的方式讓你能夠快速評估資料缺失的情況，而不是在資料表裏面步履維艱。你可以根據資料的完整度對資料進行排序或過濾，或者根據熱度圖或樹狀圖來考慮對資料進行修正。\n",
    "\n",
    "missingno是基於matplotlib建造的一個模組，所以它出圖速度很快，並且能夠靈活的處理pandas資料。\n",
    "\n",
    "### - 安裝\n",
    "\n",
    "* 方法一： \n",
    "\n",
    "    pip install missingno \n",
    "    \n",
    "\n",
    "* 方法二： \n",
    "    \n",
    "    下載安裝(https://pypi.python.org/pypi/missingno/)\n",
    "\n",
    "### - 使用"
   ]
  },
  {
   "cell_type": "code",
   "execution_count": null,
   "metadata": {},
   "outputs": [],
   "source": [
    "import missingno as msno\n",
    "import pandas as pd\n",
    "from ggplot import * "
   ]
  },
  {
   "cell_type": "code",
   "execution_count": null,
   "metadata": {},
   "outputs": [],
   "source": [
    "custdata = pd.read_csv('data/custdata.tsv',sep='\\t')"
   ]
  },
  {
   "cell_type": "code",
   "execution_count": null,
   "metadata": {},
   "outputs": [],
   "source": [
    "custdata.head()"
   ]
  },
  {
   "cell_type": "code",
   "execution_count": null,
   "metadata": {},
   "outputs": [],
   "source": [
    "msno.matrix(custdata)"
   ]
  },
  {
   "cell_type": "code",
   "execution_count": null,
   "metadata": {},
   "outputs": [],
   "source": [
    "custdata['is.employed'].value_counts(dropna=False)"
   ]
  },
  {
   "cell_type": "code",
   "execution_count": null,
   "metadata": {},
   "outputs": [],
   "source": [
    "custdata['housing.type'].value_counts(dropna=False)"
   ]
  },
  {
   "cell_type": "code",
   "execution_count": null,
   "metadata": {},
   "outputs": [],
   "source": [
    "custdata['recent.move'].value_counts(dropna=False)"
   ]
  },
  {
   "cell_type": "code",
   "execution_count": null,
   "metadata": {},
   "outputs": [],
   "source": [
    "custdata['num.vehicles'].value_counts(dropna=False)"
   ]
  },
  {
   "cell_type": "code",
   "execution_count": null,
   "metadata": {},
   "outputs": [],
   "source": [
    "msno.bar(custdata)"
   ]
  },
  {
   "cell_type": "code",
   "execution_count": null,
   "metadata": {},
   "outputs": [],
   "source": [
    "custdata.age.describe()"
   ]
  },
  {
   "cell_type": "code",
   "execution_count": null,
   "metadata": {},
   "outputs": [],
   "source": [
    "custdata.income.describe()"
   ]
  },
  {
   "cell_type": "code",
   "execution_count": null,
   "metadata": {},
   "outputs": [],
   "source": [
    "msno.heatmap(custdata)"
   ]
  },
  {
   "cell_type": "code",
   "execution_count": null,
   "metadata": {},
   "outputs": [],
   "source": [
    "msno.dendrogram(custdata)"
   ]
  },
  {
   "cell_type": "code",
   "execution_count": null,
   "metadata": {},
   "outputs": [],
   "source": [
    "ggplot(aes(x = 'age'), custdata) + geom_histogram(binwidth=5, fill=\"gray\")"
   ]
  },
  {
   "cell_type": "code",
   "execution_count": null,
   "metadata": {},
   "outputs": [],
   "source": [
    "ggplot(aes(x='age'), data=custdata) + geom_density()"
   ]
  },
  {
   "cell_type": "code",
   "execution_count": null,
   "metadata": {},
   "outputs": [],
   "source": [
    "ggplot(aes(x='income'), custdata) + geom_density()"
   ]
  },
  {
   "cell_type": "code",
   "execution_count": null,
   "metadata": {},
   "outputs": [],
   "source": [
    "ggplot(aes(x='marital.stat'), custdata) + geom_bar(fill=\"gray\")"
   ]
  },
  {
   "cell_type": "code",
   "execution_count": null,
   "metadata": {},
   "outputs": [],
   "source": [
    "p = ggplot(aes(x='state.of.res'), custdata)\\\n",
    "    + geom_bar(fill=\"gray\")\\\n",
    "    + theme(axis_text_y=element_text(size=0.001))\n",
    "p"
   ]
  },
  {
   "cell_type": "code",
   "execution_count": null,
   "metadata": {},
   "outputs": [],
   "source": [
    "custdata2 = custdata.copy()\n",
    "custdata2 = custdata2[(custdata2.age > 0) & (custdata2.age < 100) & (custdata2.income > 0)]"
   ]
  },
  {
   "cell_type": "code",
   "execution_count": null,
   "metadata": {},
   "outputs": [],
   "source": [
    "custdata2[['age', 'income']].corr()"
   ]
  },
  {
   "cell_type": "code",
   "execution_count": null,
   "metadata": {},
   "outputs": [],
   "source": [
    "ggplot(aes(x='age', y='income'), custdata2) + geom_point() + ylim(0, 200000)"
   ]
  },
  {
   "cell_type": "code",
   "execution_count": null,
   "metadata": {},
   "outputs": [],
   "source": [
    "ggplot(aes(x='age', y='income'), custdata2) + geom_point() + stat_smooth() + ylim(0, 200000)"
   ]
  },
  {
   "cell_type": "code",
   "execution_count": null,
   "metadata": {},
   "outputs": [],
   "source": [
    "ggplot(aes(x='age', y='income'), custdata2) + geom_point() + stat_smooth(method='loose') + ylim(0, 200000)"
   ]
  },
  {
   "cell_type": "code",
   "execution_count": null,
   "metadata": {},
   "outputs": [],
   "source": [
    "ggplot(aes(x = 'marital.stat', fill = 'health.ins'), custdata) + geom_bar(position = \"stack\") "
   ]
  },
  {
   "cell_type": "code",
   "execution_count": null,
   "metadata": {},
   "outputs": [],
   "source": [
    "ggplot(aes(x='marital.stat', fill='health.ins'), custdata) + geom_bar()"
   ]
  },
  {
   "cell_type": "code",
   "execution_count": null,
   "metadata": {},
   "outputs": [],
   "source": [
    "ggplot(aes(x = 'marital.stat', y = '1.05', fill = 'health.ins'), custdata)\\\n",
    "    + geom_bar(position=\"fill\")\\\n",
    "    + geom_point(size = 0.75, alpha = 0.3)\n"
   ]
  },
  {
   "cell_type": "code",
   "execution_count": null,
   "metadata": {},
   "outputs": [],
   "source": [
    "custdata2['housing_type'] = pd.Categorical(custdata2['housing.type'])\n",
    "custdata2['housing_type'] = custdata2['housing_type'].cat.codes\n",
    "\n",
    "custdata3 = custdata2.copy()\n",
    "custdata3 = custdata3.dropna(how='any')"
   ]
  },
  {
   "cell_type": "code",
   "execution_count": null,
   "metadata": {},
   "outputs": [],
   "source": [
    "ggplot(aes(x='housing_type', fill='marital.stat'), custdata3)\\\n",
    "    + geom_bar()\\\n",
    "    + theme(axis_text_x = element_text(angle = 45, hjust = 1))"
   ]
  },
  {
   "cell_type": "code",
   "execution_count": null,
   "metadata": {},
   "outputs": [],
   "source": [
    "ggplot(aes(x='housing_type', fill='marital.stat'), custdata3)\\\n",
    "    + geom_bar()\\\n",
    "    + facet_wrap('housing.type', scales=\"free_y\")\\\n",
    "    + theme(axis_text_x = element_text(angle = 45, hjust = 1))"
   ]
  }
 ],
 "metadata": {
  "kernelspec": {
   "display_name": "Python 3",
   "language": "python",
   "name": "python3"
  },
  "language_info": {
   "codemirror_mode": {
    "name": "ipython",
    "version": 3
   },
   "file_extension": ".py",
   "mimetype": "text/x-python",
   "name": "python",
   "nbconvert_exporter": "python",
   "pygments_lexer": "ipython3",
   "version": "3.6.6"
  }
 },
 "nbformat": 4,
 "nbformat_minor": 2
}
