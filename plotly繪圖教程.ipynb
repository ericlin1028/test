{
 "cells": [
  {
   "cell_type": "markdown",
   "metadata": {},
   "source": [
    "## plotly\n",
    "\n",
    "Plotly的Python graphing library在網上提供了互動式的、公開的，高質量的圖表集，可與R、python、matlab等軟體對接。它擁有在別的庫中很難找到的幾種圖表型別，如等值線圖，樹形圖和三維圖表等，圖示型別也十分豐富，申請了API金鑰後，可以一鍵將統計圖形同步到雲端。但美中不足的是，開啟國外網站會比較費時，且一個賬號只能建立25個圖表，除非你升級或刪除一些圖表。\n",
    "\n",
    "### - 安裝\n",
    "\n",
    "    pip install plotly\n",
    "    \n",
    "### - 使用"
   ]
  },
  {
   "cell_type": "code",
   "execution_count": null,
   "metadata": {},
   "outputs": [],
   "source": [
    "import plotly\n",
    "\n",
    "import plotly.graph_objs as go\n",
    "from plotly.offline import download_plotlyjs, init_notebook_mode, plot, iplot\n",
    "\n",
    "from ggplot import *\n",
    "\n",
    "init_notebook_mode(connected=True)"
   ]
  },
  {
   "cell_type": "markdown",
   "metadata": {},
   "source": [
    "### 散點圖"
   ]
  },
  {
   "cell_type": "code",
   "execution_count": null,
   "metadata": {},
   "outputs": [],
   "source": [
    "import random\n",
    "\n",
    "\n",
    "trace1=go.Scatter(\n",
    "    x=[random.randint(0, 100) for x in range(50)],\n",
    "    y=[random.randint(0, 100) for x in range(50)],\n",
    "    mode = 'markers',\n",
    ")\n",
    "trace2=go.Scatter(\n",
    "    x=[random.randint(0, 100) for x in range(50)],\n",
    "    y=[random.randint(0, 100) for x in range(50)],\n",
    "    mode = 'markers',\n",
    ")\n",
    "iplot([trace1, trace2])"
   ]
  },
  {
   "cell_type": "code",
   "execution_count": null,
   "metadata": {},
   "outputs": [],
   "source": [
    "trace1=go.Scatter(\n",
    "    x=[random.randint(0, 100) for x in range(50)],\n",
    "    y=[random.randint(0, 100) for x in range(50)],\n",
    "    mode = 'markers',\n",
    "    name = 'A',\n",
    "\n",
    "    marker = dict(\n",
    "        size = 10,\n",
    "        color = 'rgba(152, 0, 0, .8)',\n",
    "        line = dict(width = 2, color = 'rgb(0, 0, 0)')\n",
    "    )\n",
    ")\n",
    "trace2=go.Scatter(\n",
    "    x=[random.randint(0, 100) for x in range(50)],\n",
    "    y=[random.randint(0, 100) for x in range(50)],\n",
    "    mode = 'markers',\n",
    "    name = 'B'\n",
    ")\n",
    "iplot([trace1, trace2])"
   ]
  },
  {
   "cell_type": "code",
   "execution_count": null,
   "metadata": {},
   "outputs": [],
   "source": [
    "import numpy as np\n",
    "\n",
    "trace1=go.Scatter(\n",
    "    x=[random.randint(0, 100) for x in range(50)],\n",
    "    y=[random.randint(0, 100) for x in range(50)],\n",
    "    mode = 'markers',\n",
    "    name = 'A',\n",
    "\n",
    "    marker = dict(\n",
    "        size = 10,\n",
    "        line = dict(width = 2, color = 'rgb(0, 0, 0)'),\n",
    "        color = np.random.randn(500), #set color equal to a variable\n",
    "        colorscale='Viridis',\n",
    "        showscale=True\n",
    "    )\n",
    ")\n",
    "trace2=go.Scatter(\n",
    "    x=[random.randint(0, 100) for x in range(50)],\n",
    "    y=[random.randint(0, 100) for x in range(50)],\n",
    "    mode = 'markers',\n",
    "    name = 'B'\n",
    ")\n",
    "iplot([trace1, trace2])"
   ]
  },
  {
   "cell_type": "code",
   "execution_count": null,
   "metadata": {},
   "outputs": [],
   "source": [
    "trace1=go.Scatter(\n",
    "    x=mtcars.mpg,\n",
    "    y=mtcars.hp,\n",
    "    text=mtcars.name,\n",
    "    textposition=\"top center\",\n",
    "    mode=\"text\",\n",
    "    marker=dict(\n",
    "        size=[20,20,20]\n",
    "    )\n",
    ")\n",
    "data=[trace1]\n",
    "iplot(data)"
   ]
  },
  {
   "cell_type": "markdown",
   "metadata": {},
   "source": [
    "### 繪製大量資料"
   ]
  },
  {
   "cell_type": "code",
   "execution_count": null,
   "metadata": {},
   "outputs": [],
   "source": [
    "trace = go.Scattergl(\n",
    "    x = diamonds.carat,\n",
    "    y = diamonds.price,\n",
    "    mode = 'markers',\n",
    "    marker = dict(\n",
    "        color = '#FFBAD2',\n",
    "        line = dict(width = 1)\n",
    "    )\n",
    ")\n",
    "data = [trace]\n",
    "iplot(data, filename='compare_webgl')"
   ]
  },
  {
   "cell_type": "markdown",
   "metadata": {},
   "source": [
    "### 折線圖"
   ]
  },
  {
   "cell_type": "code",
   "execution_count": null,
   "metadata": {
    "scrolled": true
   },
   "outputs": [],
   "source": [
    "trace1=go.Scatter(\n",
    "    x = list(range(50)),\n",
    "    y=[random.randint(0, 100) for x in range(50)],\n",
    "    mode = 'lines'\n",
    ")\n",
    "trace2=go.Scatter(\n",
    "    x=list(range(50)),\n",
    "    y=[random.randint(101, 200) for x in range(50)],\n",
    "    mode = 'lines'\n",
    ")\n",
    "iplot([trace1, trace2])"
   ]
  },
  {
   "cell_type": "markdown",
   "metadata": {},
   "source": [
    "### 散點圖與折線圖\n"
   ]
  },
  {
   "cell_type": "code",
   "execution_count": null,
   "metadata": {},
   "outputs": [],
   "source": [
    "trace=go.Scatter(\n",
    "    x = list(range(50)),\n",
    "    y=[random.randint(0, 100) for x in range(50)],\n",
    "    mode = 'lines+markers'\n",
    ")\n",
    "iplot([trace])"
   ]
  },
  {
   "cell_type": "code",
   "execution_count": null,
   "metadata": {},
   "outputs": [],
   "source": [
    "trace1=go.Scatter(\n",
    "    x=meat.date,\n",
    "    y=meat.beef,\n",
    "#     fill=\"tonexty\",\n",
    "#     fillcolor=\"blue\"\n",
    ")\n",
    "\n",
    "trace2=go.Scatter(\n",
    "    x=meat.date,\n",
    "    y=meat.pork,\n",
    "#     fill=\"tozeroy\",\n",
    "#     fillcolor=\"yellow\"\n",
    ")\n",
    "\n",
    "\n",
    "data=[trace1, trace2]\n",
    "iplot(data)"
   ]
  },
  {
   "cell_type": "markdown",
   "metadata": {},
   "source": [
    "### 長條圖"
   ]
  },
  {
   "cell_type": "code",
   "execution_count": null,
   "metadata": {},
   "outputs": [],
   "source": [
    "trace=go.Bar(\n",
    "    x=meat.date[:100],\n",
    "    y=meat.pork[:100]\n",
    ")\n",
    "data=[trace]\n",
    "iplot(data)"
   ]
  },
  {
   "cell_type": "markdown",
   "metadata": {},
   "source": [
    "### 堆疊長條圖"
   ]
  },
  {
   "cell_type": "code",
   "execution_count": null,
   "metadata": {},
   "outputs": [],
   "source": [
    "trace1 = go.Bar(\n",
    "    x=meat.date[:10],\n",
    "    y=meat.beef[:10],\n",
    "    name='Beef'\n",
    ")\n",
    "trace2 = go.Bar(\n",
    "    x=meat.date[:10],\n",
    "    y=meat.pork[:10],\n",
    "    name='Pork'\n",
    ")\n",
    "\n",
    "data = [trace1, trace2]\n",
    "\n",
    "layout = go.Layout(\n",
    "    barmode='stack' # group\n",
    ")\n",
    "\n",
    "fig = go.Figure(data=data, layout=layout)\n",
    "iplot(fig)"
   ]
  },
  {
   "cell_type": "markdown",
   "metadata": {},
   "source": [
    "### 直方圖"
   ]
  },
  {
   "cell_type": "code",
   "execution_count": null,
   "metadata": {},
   "outputs": [],
   "source": [
    "trace=go.Histogram(\n",
    "    x=mtcars.mpg,\n",
    ")\n",
    "data=[trace]\n",
    "iplot(data)"
   ]
  },
  {
   "cell_type": "markdown",
   "metadata": {},
   "source": [
    "### 盒鬚圖"
   ]
  },
  {
   "cell_type": "code",
   "execution_count": null,
   "metadata": {},
   "outputs": [],
   "source": [
    "trace=go.Box(\n",
    "    x=diamonds.price\n",
    ")\n",
    "data=[trace]\n",
    "iplot(data)"
   ]
  },
  {
   "cell_type": "markdown",
   "metadata": {},
   "source": [
    "### 熱度圖"
   ]
  },
  {
   "cell_type": "code",
   "execution_count": null,
   "metadata": {},
   "outputs": [],
   "source": [
    "a = diamonds.depth[:3]\n",
    "b = diamonds.table[:3]\n",
    "c = diamonds.carat[:3]\n",
    "\n",
    "trace = go.Heatmap(z=[a,b,c])\n",
    "data=[trace]\n",
    "iplot(data)"
   ]
  },
  {
   "cell_type": "code",
   "execution_count": null,
   "metadata": {},
   "outputs": [],
   "source": [
    "a = diamonds.depth[:5]\n",
    "b = diamonds.table[:5]\n",
    "c = diamonds.carat[:5]\n",
    "\n",
    "trace = go.Heatmap(z=[a,b,c], \n",
    "                   x = ['X1', 'X2', 'X3'],\n",
    "                   y = ['Y1', 'Y2', 'Y3'])\n",
    "data=[trace]\n",
    "iplot(data)"
   ]
  },
  {
   "cell_type": "markdown",
   "metadata": {},
   "source": [
    "### 案例 - 台積電股價走勢"
   ]
  },
  {
   "cell_type": "code",
   "execution_count": null,
   "metadata": {},
   "outputs": [],
   "source": [
    "import plotly.graph_objs as go\n",
    "from plotly.offline import download_plotlyjs, init_notebook_mode, plot, iplot\n",
    "import pandas as pd\n",
    "init_notebook_mode(connected=True)"
   ]
  },
  {
   "cell_type": "code",
   "execution_count": null,
   "metadata": {},
   "outputs": [],
   "source": [
    "df = pd.read_csv('data/2330.csv')\n",
    "df.head()"
   ]
  },
  {
   "cell_type": "code",
   "execution_count": null,
   "metadata": {},
   "outputs": [],
   "source": [
    "df['date'] = pd.DataFrame(df.date)\n",
    "df = df.set_index('date')"
   ]
  },
  {
   "cell_type": "code",
   "execution_count": null,
   "metadata": {},
   "outputs": [],
   "source": [
    "trace = go.Candlestick(x=df.index,\n",
    "                       open=df.open,\n",
    "                       high=df.high,\n",
    "                       low=df.low,\n",
    "                       close=df.close)\n",
    "data = [trace]\n",
    "iplot(data)"
   ]
  }
 ],
 "metadata": {
  "kernelspec": {
   "display_name": "Python 3",
   "language": "python",
   "name": "python3"
  },
  "language_info": {
   "codemirror_mode": {
    "name": "ipython",
    "version": 3
   },
   "file_extension": ".py",
   "mimetype": "text/x-python",
   "name": "python",
   "nbconvert_exporter": "python",
   "pygments_lexer": "ipython3",
   "version": "3.6.6"
  }
 },
 "nbformat": 4,
 "nbformat_minor": 2
}
