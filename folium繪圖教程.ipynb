{
 "cells": [
  {
   "cell_type": "markdown",
   "metadata": {},
   "source": [
    "## folium\n",
    "\n",
    "folium是一個建立在Python系統之上的js庫，可以很輕鬆地將在Python中操作的資料視覺化為互動式的單張地圖，且將緊密地將資料與地圖聯絡在一起，可自定義箭頭，網格等HTML格式的地圖示記。該庫還附有一些內建的地形資料。\n",
    "\n",
    "\n",
    "### - 安裝\n",
    "\n",
    "    方法一：\n",
    "    \n",
    "        pip install folium \n",
    "    \n",
    "    方法二： \n",
    "    \n",
    "        conda install folium \n",
    "    \n",
    "    方法三： \n",
    "    \n",
    "        下載安裝(https://pypi.python.org/pypi/folium/0.5.0)\n",
    "        \n",
    "\n",
    "### - 使用"
   ]
  },
  {
   "cell_type": "code",
   "execution_count": null,
   "metadata": {},
   "outputs": [],
   "source": [
    "import folium "
   ]
  },
  {
   "cell_type": "code",
   "execution_count": null,
   "metadata": {},
   "outputs": [],
   "source": [
    "location = [25, 121.50] # 台灣的經緯度\n",
    "\n",
    "folium.Map(location=location) "
   ]
  },
  {
   "cell_type": "markdown",
   "metadata": {},
   "source": [
    "### 地圖大小、與頂端距離"
   ]
  },
  {
   "cell_type": "code",
   "execution_count": null,
   "metadata": {},
   "outputs": [],
   "source": [
    "folium.Map(location=location, \n",
    "           width='50%', \n",
    "           height='50%', \n",
    "           top='20%'\n",
    "          ) "
   ]
  },
  {
   "cell_type": "markdown",
   "metadata": {},
   "source": [
    "### 地圖樣式類型設定\n",
    "- OpenStreetMap\n",
    "- Stamen Terrain\n",
    "- Stamen Toner\n",
    "- Stamen Watercolor\n",
    "- CartoDB positron\n",
    "- CartoDB dark_matter\n",
    "- Mapbox Bright\n",
    "- Mapbox Control Room"
   ]
  },
  {
   "cell_type": "code",
   "execution_count": null,
   "metadata": {},
   "outputs": [],
   "source": [
    "folium.Map(location=location, \n",
    "           width='100%', \n",
    "           height='50%', \n",
    "           tiles = 'CartoDB positron'\n",
    "          ) "
   ]
  },
  {
   "cell_type": "markdown",
   "metadata": {},
   "source": [
    "### 地圖距離縮放\n",
    "\n",
    "範圍為0~18"
   ]
  },
  {
   "cell_type": "code",
   "execution_count": null,
   "metadata": {},
   "outputs": [],
   "source": [
    "folium.Map(location=location, zoom_start = 5) "
   ]
  },
  {
   "cell_type": "markdown",
   "metadata": {},
   "source": [
    "### 添加標記"
   ]
  },
  {
   "cell_type": "code",
   "execution_count": null,
   "metadata": {},
   "outputs": [],
   "source": [
    "m = folium.Map(location=[25.1, 121.5],\n",
    "                   zoom_start=11,\n",
    "                   tiles='OpenStreetMap')\n",
    "\n",
    "folium.Marker([25.033, 121.564099], popup='Taipei 101').add_to(m)\n",
    "folium.CircleMarker([25.033, 121.564099]).add_to(m)\n",
    "m"
   ]
  },
  {
   "cell_type": "markdown",
   "metadata": {},
   "source": [
    "### 分級著色圖"
   ]
  },
  {
   "cell_type": "code",
   "execution_count": null,
   "metadata": {},
   "outputs": [],
   "source": [
    "# get json links\n",
    "from urllib.request import Request, urlopen, quote\n",
    "import json\n",
    "import pandas as pd\n",
    "import ssl\n",
    "ssl._create_default_https_context = ssl._create_unverified_context\n",
    "\n",
    "\n",
    "link = 'http://www.geologycloud.tw/data/zh-tw/liquefaction?area={}&classify={}&all=true'\n",
    "city = [quote('臺北')] * 3\n",
    "trend = [quote(t) for t in ['低潛勢', '中潛勢', '高潛勢']]\n",
    "links = [link.format(x, y) for x, y in zip(city, trend)]\n",
    "links"
   ]
  },
  {
   "cell_type": "code",
   "execution_count": null,
   "metadata": {},
   "outputs": [],
   "source": [
    "def get_data(url):\n",
    "    u = urlopen(url)\n",
    "    dat = json.dumps(json.loads(u.read().decode('utf-8')))\n",
    "    return dat\n",
    "\n",
    "low = get_data(links[0])\n",
    "median = get_data(links[1])\n",
    "high = get_data(links[2])"
   ]
  },
  {
   "cell_type": "code",
   "execution_count": null,
   "metadata": {},
   "outputs": [],
   "source": [
    "import folium\n",
    "m = folium.Map(location=[25.05, 121.5], zoom_start=12, tiles='Stamen Terrain')\n",
    "m.choropleth(low, fill_color='green')\n",
    "m.choropleth(median, fill_color='yellow')\n",
    "m.choropleth(high, fill_color='red')\n",
    "m\n",
    "\n",
    "# Try: all data on map"
   ]
  },
  {
   "cell_type": "markdown",
   "metadata": {},
   "source": [
    "### 讀取shapefile進行標記"
   ]
  },
  {
   "cell_type": "code",
   "execution_count": null,
   "metadata": {},
   "outputs": [],
   "source": [
    "# pip install pyshp\n",
    "import shapefile"
   ]
  },
  {
   "cell_type": "code",
   "execution_count": null,
   "metadata": {},
   "outputs": [],
   "source": [
    "reader = shapefile.Reader('data/空氣品質監測站/空氣品質監測站位置圖_121_10704.shp')\n",
    "reader.fields"
   ]
  },
  {
   "cell_type": "code",
   "execution_count": null,
   "metadata": {},
   "outputs": [],
   "source": [
    "fields = reader.fields[1:]\n",
    "field_names = [field[0] for field in fields]\n",
    "field_names"
   ]
  },
  {
   "cell_type": "code",
   "execution_count": null,
   "metadata": {},
   "outputs": [],
   "source": [
    "buffer = []\n",
    "for sr in reader.shapeRecords():\n",
    "    records=sr.record\n",
    "    for x in [0,2,3,4,5,8]:\n",
    "        records[x] = records[x].decode('big5')\n",
    "    atr = dict(zip(field_names, records))\n",
    "    geom = sr.shape.__geo_interface__\n",
    "    geom['coordinates'] = tuple([float(records[6]), float(records[7])])\n",
    "    # geom = sr.shape.__geo_interface__ ## (189901.75652849016, 2646862.0741260033)\n",
    "    buffer.append(dict(type='Feature', geometry=geom, properties = atr))"
   ]
  },
  {
   "cell_type": "code",
   "execution_count": null,
   "metadata": {},
   "outputs": [],
   "source": [
    "from json import dumps\n",
    "geojson = open(\"data/空氣品質監測站_10704.json\", \"w\")\n",
    "geojson.write(dumps({\"type\": \"FeatureCollection\", \"features\": buffer}, indent=2) + \"\\n\")\n",
    "geojson.close()"
   ]
  },
  {
   "cell_type": "code",
   "execution_count": null,
   "metadata": {},
   "outputs": [],
   "source": [
    "station_info = json.load(open('data/空氣品質監測站_10704.json'))\n",
    "stations=json.dumps(station_info)"
   ]
  },
  {
   "cell_type": "code",
   "execution_count": null,
   "metadata": {},
   "outputs": [],
   "source": [
    "m = folium.Map(location=[24.05, 121.5], zoom_start=7,tiles='Stamen Watercolor')\n",
    "folium.GeoJson(stations).add_to(m)"
   ]
  },
  {
   "cell_type": "code",
   "execution_count": null,
   "metadata": {},
   "outputs": [],
   "source": [
    "m"
   ]
  },
  {
   "cell_type": "code",
   "execution_count": null,
   "metadata": {},
   "outputs": [],
   "source": [
    "import geopandas as gpd"
   ]
  },
  {
   "cell_type": "code",
   "execution_count": null,
   "metadata": {},
   "outputs": [],
   "source": [
    "geo_df = gpd.read_file('data/空氣品質監測站_10704.json')\n",
    "geo_df.head()"
   ]
  },
  {
   "cell_type": "code",
   "execution_count": null,
   "metadata": {},
   "outputs": [],
   "source": [
    "geo_df.plot()"
   ]
  },
  {
   "cell_type": "code",
   "execution_count": null,
   "metadata": {},
   "outputs": [],
   "source": [
    "m = folium.Map(location=[24.05, 121.5], zoom_start=7,tiles='Stamen Watercolor')\n",
    "station_info = json.load(open('data/空氣品質監測站_10704.json'))\n",
    "stations=json.dumps(station_info)\n",
    "\n",
    "style = lambda x :{'fillColor':'orange'}\n",
    "\n",
    "lon = geo_df.TWD97Lon.tolist()\n",
    "lat = geo_df.TWD97Lat.tolist()\n",
    "\n",
    "site_name = geo_df.SiteName.tolist()\n",
    "address = geo_df.SiteAddres.tolist()\n",
    "site_type = geo_df.SiteType.tolist()\n",
    "\n",
    "for i in range(len(geo_df)):\n",
    "    \n",
    "    popup = '站名 : {}<br>地址 : {}<br>測站類型 : {}'\n",
    "    popup = popup.format(site_name[i], address[i], site_type[i])\n",
    "    \n",
    "    \n",
    "    m.add_child(\n",
    "        folium.CircleMarker(\n",
    "            location=[lat[i], lon[i]],\n",
    "            color='green', \n",
    "            radius=10, \n",
    "            popup=popup,\n",
    "            fill=True,\n",
    "            fill_opacity=0.5\n",
    "        ))\n",
    "\n",
    "m"
   ]
  }
 ],
 "metadata": {
  "kernelspec": {
   "display_name": "Python 3",
   "language": "python",
   "name": "python3"
  },
  "language_info": {
   "codemirror_mode": {
    "name": "ipython",
    "version": 3
   },
   "file_extension": ".py",
   "mimetype": "text/x-python",
   "name": "python",
   "nbconvert_exporter": "python",
   "pygments_lexer": "ipython3",
   "version": "3.6.6"
  }
 },
 "nbformat": 4,
 "nbformat_minor": 2
}
