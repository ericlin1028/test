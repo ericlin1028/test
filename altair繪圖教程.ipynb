{
 "cells": [
  {
   "cell_type": "markdown",
   "metadata": {},
   "source": [
    "## Altair\n",
    "\n",
    "Altair是Python的一個公認的統計視覺化庫。它的API簡單、友好、一致，並建立在強大的vega - lite（互動式圖形語法）之上。Altair API不包含實際的視覺化呈現程式碼，而是按照vega - lite規範發出JSON數據結構。由此產生的資料可以在用戶界面中呈現，這種優雅的簡單性產生了漂亮且有效的視覺化效果，且只需很少的程式碼。\n",
    "\n",
    "資料來源是一個DataFrame，它由不同資料型別的列組成。DataFrame是一種整潔的格式，其中的行與樣本相對應，而列與觀察到的變數相對應。資料通過資料轉換對映到使用組的視覺屬性(位置、顏色、大小、形狀、面板等)。\n",
    "\n",
    "\n",
    "### - 安裝 \n",
    "\n",
    "* 方法一： \n",
    "\n",
    "    pip install Altair\n",
    "\n",
    "\n",
    "* 方法二： \n",
    "\n",
    "    conda install altair --channel conda-forge\n",
    "    \n",
    "\n",
    "### - 使用"
   ]
  },
  {
   "cell_type": "code",
   "execution_count": null,
   "metadata": {},
   "outputs": [],
   "source": [
    "import altair as alt"
   ]
  },
  {
   "cell_type": "markdown",
   "metadata": {},
   "source": [
    "## 設定渲染方式為notebook\n",
    "\n",
    "- jupyterlab (預設)\n",
    "- nteract (預設)\n",
    "- notebook\n",
    "- colab"
   ]
  },
  {
   "cell_type": "code",
   "execution_count": null,
   "metadata": {},
   "outputs": [],
   "source": [
    "alt.renderers.enable('notebook')"
   ]
  },
  {
   "cell_type": "markdown",
   "metadata": {},
   "source": [
    "## 指定繪圖數據\n",
    "\n",
    "\n",
    "可接受類型包含\n",
    "\n",
    "1. pandas DataFrame\n",
    "2. altair Data物件(UrlData, InlineData, NamedData)\n",
    "3. 指向json或csv檔案的url路徑"
   ]
  },
  {
   "cell_type": "markdown",
   "metadata": {},
   "source": [
    "#### 1. pandas DataFrame"
   ]
  },
  {
   "cell_type": "code",
   "execution_count": null,
   "metadata": {},
   "outputs": [],
   "source": [
    "import pandas as pd\n",
    "\n",
    "df = pd.DataFrame({'x': ['A', 'B', 'C', 'D', 'E'],\n",
    "                     'y': [5, 3, 6, 7, 2]})\n",
    "\n",
    "alt.Chart(df).mark_bar().encode(\n",
    "    x='x:O',\n",
    "    y='y:Q',\n",
    ")"
   ]
  },
  {
   "cell_type": "code",
   "execution_count": null,
   "metadata": {},
   "outputs": [],
   "source": [
    "## 轉換json\n",
    "df.to_json('data/data.json', orient='records')\n",
    "# alt.to_json(df, filename = 'data.json', prefix='altair-data')\n",
    "\n",
    "## 轉換csv\n",
    "df.to_csv('data/data.csv')\n",
    "# alt.to_csv(df, filename = 'data.csv', prefix='altair-data')"
   ]
  },
  {
   "cell_type": "markdown",
   "metadata": {},
   "source": [
    "#### 2. altair Data物件(UrlData, InlineData, NamedData)"
   ]
  },
  {
   "cell_type": "code",
   "execution_count": null,
   "metadata": {},
   "outputs": [],
   "source": [
    "url = 'data/data.csv'\n",
    "url_data = alt.UrlData(url, format=alt.CsvDataFormat())"
   ]
  },
  {
   "cell_type": "code",
   "execution_count": null,
   "metadata": {},
   "outputs": [],
   "source": [
    "alt.Chart(url_data).mark_bar().encode(x='x:O',y='y:Q')"
   ]
  },
  {
   "cell_type": "markdown",
   "metadata": {},
   "source": [
    "#### 3. 指向json或csv檔案的url路徑"
   ]
  },
  {
   "cell_type": "code",
   "execution_count": null,
   "metadata": {},
   "outputs": [],
   "source": [
    "url = 'data/data.json'\n",
    "# url = 'data.csv'\n",
    "alt.Chart(url).mark_bar().encode(x='x:O', y='y:Q')"
   ]
  },
  {
   "cell_type": "markdown",
   "metadata": {},
   "source": [
    "## 長資料與寬資料轉換\n",
    "\n",
    "- 寬資料 : 每一列包含多個觀測值\n",
    "- 長資料 : 每一列只包含一個觀測值\n"
   ]
  },
  {
   "cell_type": "code",
   "execution_count": null,
   "metadata": {},
   "outputs": [],
   "source": [
    "data = {'Date' : ['2019-01-01', '2019-01-02', '2019-01-03', '2019-01-04'] * 3,\n",
    "        'Item' : ['A', 'A', 'A', 'A', \n",
    "                  'B', 'B', 'B', 'B', \n",
    "                  'C', 'C', 'C', 'C'],\n",
    "        'Price': [120, 129, 102, 113, \n",
    "                  204, 205, 212, 201, \n",
    "                  41, 39, 53, 23]\n",
    "       }\n",
    "\n",
    "long_df = pd.DataFrame(data)\n",
    "long_df"
   ]
  },
  {
   "cell_type": "code",
   "execution_count": null,
   "metadata": {},
   "outputs": [],
   "source": [
    "# 轉換為寬資料\n",
    "wide_df = long_df.pivot(index='Date', columns='Item', values='Price')\n",
    "wide_df"
   ]
  },
  {
   "cell_type": "code",
   "execution_count": null,
   "metadata": {},
   "outputs": [],
   "source": [
    "wide_df = wide_df.reset_index()"
   ]
  },
  {
   "cell_type": "code",
   "execution_count": null,
   "metadata": {},
   "outputs": [],
   "source": [
    "wide_df.melt('Date', var_name='Item', value_name='Price')"
   ]
  },
  {
   "cell_type": "code",
   "execution_count": null,
   "metadata": {},
   "outputs": [],
   "source": [
    "alt.Chart(long_df).mark_line().encode(\n",
    "  x='Date:T',\n",
    "  y='Price:Q',\n",
    "  color='Item:N'\n",
    ")"
   ]
  },
  {
   "cell_type": "markdown",
   "metadata": {},
   "source": [
    "### 編碼 Encodings\n",
    "\n",
    "將資料的屬性映射到可視化的屬性\n",
    "\n",
    "\n",
    "1. 資料類型\n",
    "\n",
    "    - 連續變量(quantitative) : Q\n",
    "    - 有序變量(ordinal) : O\n",
    "    - 無序變量(nominal) : N\n",
    "    - 時間(temporal) : T\n",
    "\n",
    "\n",
    "\n",
    "\n",
    "2. Channel包含\n",
    "\n",
    "    - 位置(Position)\n",
    "        - x, y, x2, y2, longitude, latitude, longitude2, latitude2  \n",
    "        \n",
    "    - 標記屬性(Mark Property)\n",
    "        - color, fill, opacity, shape, size, stroke\n",
    "        \n",
    "    - 文字與提示(Text and Tooltip)\n",
    "        - text, key, tooltip\n",
    "        \n",
    "    - 超連結(Hyperlink)\n",
    "        - href\n",
    "        \n",
    "    - 細節層次(Level of Detail)\n",
    "        - detail\n",
    "        \n",
    "    - 排序(Order)\n",
    "        - order\n",
    "        \n",
    "    - 分面(Facet)\n",
    "        - column, row"
   ]
  },
  {
   "cell_type": "code",
   "execution_count": null,
   "metadata": {},
   "outputs": [],
   "source": [
    "from vega_datasets import data\n",
    "cars = data.cars()\n",
    "cars.head()"
   ]
  },
  {
   "cell_type": "code",
   "execution_count": null,
   "metadata": {},
   "outputs": [],
   "source": [
    "alt.Chart(cars).mark_point().encode(\n",
    "    x='Displacement:Q',\n",
    "    y='Miles_per_Gallon:Q',\n",
    "    color='Origin:N'\n",
    ")"
   ]
  },
  {
   "cell_type": "code",
   "execution_count": null,
   "metadata": {},
   "outputs": [],
   "source": [
    "alt.Chart(cars).mark_point().encode(\n",
    "    x='Displacement:Q',\n",
    "    y='Miles_per_Gallon:Q',\n",
    "    color='Origin:N',\n",
    "    tooltip='Origin'\n",
    ").configure_mark(\n",
    "    filled=True\n",
    ")"
   ]
  },
  {
   "cell_type": "code",
   "execution_count": null,
   "metadata": {},
   "outputs": [],
   "source": [
    "base = alt.Chart(cars).mark_point().encode(\n",
    "    x='Horsepower:Q',\n",
    "    y='Miles_per_Gallon:Q',\n",
    ").properties(\n",
    "    width=150,\n",
    "    height=150\n",
    ")\n",
    "\n",
    "alt.hconcat(\n",
    "   base.encode(color='Cylinders:Q').properties(title='quantitative'),\n",
    "   base.encode(color='Cylinders:O').properties(title='ordinal'),\n",
    "   base.encode(color='Cylinders:N').properties(title='nominal'),\n",
    ")"
   ]
  },
  {
   "cell_type": "code",
   "execution_count": null,
   "metadata": {},
   "outputs": [],
   "source": [
    "from ggplot import *\n",
    "meat.head()"
   ]
  },
  {
   "cell_type": "code",
   "execution_count": null,
   "metadata": {},
   "outputs": [],
   "source": [
    "meat = meat[['date', 'beef', 'pork', 'veal']]"
   ]
  },
  {
   "cell_type": "code",
   "execution_count": null,
   "metadata": {},
   "outputs": [],
   "source": [
    "base = alt.Chart(meat).mark_bar().encode(\n",
    "    alt.Y('beef:Q', title='Beef Price')\n",
    ").properties(\n",
    "    width=300,\n",
    "    height=300\n",
    ")\n",
    "\n",
    "alt.hconcat(\n",
    "    base.encode(x='date:T').properties(title='year=temporal'),\n",
    "    base.encode(x='date:O').properties(title='year=ordinal')\n",
    ")"
   ]
  },
  {
   "cell_type": "markdown",
   "metadata": {},
   "source": [
    "### 資料分組與聚合"
   ]
  },
  {
   "cell_type": "code",
   "execution_count": null,
   "metadata": {},
   "outputs": [],
   "source": [
    "alt.Chart(cars).mark_bar().encode(\n",
    "    alt.X('Miles_per_Gallon:O', bin=True, sort='descending'),\n",
    "    y = 'count()'\n",
    ")"
   ]
  },
  {
   "cell_type": "code",
   "execution_count": null,
   "metadata": {},
   "outputs": [],
   "source": [
    "alt.Chart(meat).mark_circle().encode(\n",
    "    alt.X('beef', bin=True),\n",
    "    alt.Y('pork', bin=True),\n",
    "    size='count()',\n",
    "    color = 'veal'\n",
    ")"
   ]
  },
  {
   "cell_type": "markdown",
   "metadata": {},
   "source": [
    "### 圖例與座標軸"
   ]
  },
  {
   "cell_type": "code",
   "execution_count": null,
   "metadata": {},
   "outputs": [],
   "source": [
    "legend = alt.Legend(title=\"Country\",\n",
    "                    orient=\"left\")\n",
    "\n",
    "color = alt.Scale(scheme='dark2')\n",
    "\n",
    "\n",
    "# domain = cars.Origin.unique().tolist()\n",
    "# range_ = ['red', 'green', 'blue']\n",
    "# color = alt.Scale(domain=domain, range=range_)\n",
    "\n",
    "sort = ['USA', 'Japan', 'Europe']\n",
    "\n",
    "alt.Chart(cars).mark_bar().encode(\n",
    "    x=alt.X('Acceleration:Q', \n",
    "            scale=alt.Scale(domain = (-5, 30)),\n",
    "            axis=alt.Axis(format='%', title='percentage')\n",
    "           ),\n",
    "    \n",
    "    y='Origin:O',\n",
    "    color=alt.Color('Origin:O', \n",
    "                    legend=legend,\n",
    "                    scale=color,\n",
    "                    sort = sort\n",
    "                   )\n",
    ").configure_mark(\n",
    "    opacity=0.1\n",
    ")"
   ]
  },
  {
   "cell_type": "markdown",
   "metadata": {},
   "source": [
    "### 標記類型\n",
    "\n",
    "\n",
    "- mark_area\n",
    "- mark_bar\n",
    "- mark_circle\n",
    "- mark_geoshape\n",
    "- mark_line\n",
    "- mark_point\n",
    "- mark_rect\n",
    "- mark_rule\n",
    "- mark_square\n",
    "- mark_text\n",
    "- mark_tick"
   ]
  },
  {
   "cell_type": "code",
   "execution_count": null,
   "metadata": {},
   "outputs": [],
   "source": [
    "long_meat = meat.melt('date', var_name='Item', value_name='Price')\n",
    "alt.Chart(long_meat).mark_area().encode(\n",
    "    x=\"date:T\",\n",
    "    y=\"Price:Q\",\n",
    "    color=\"Item:N\"\n",
    ")"
   ]
  },
  {
   "cell_type": "code",
   "execution_count": null,
   "metadata": {},
   "outputs": [],
   "source": [
    "import random\n",
    "\n",
    "dates = list(pd.date_range(start='2019-01-01', end='2019-12-31'))\n",
    "temp = [random.randint(20, 40) for _ in range(len(dates))]\n",
    "\n",
    "temp_df =pd.DataFrame({'Date':dates, 'Temp':temp})\n",
    "\n",
    "alt.Chart(temp_df).mark_rect().encode(\n",
    "    alt.X('date(Date):O', title='day'),\n",
    "    alt.Y('month(Date):O', title='month'),\n",
    "    color='Temp:Q'\n",
    ").properties(\n",
    "    title=\"2019 Daily Temp (C)\"\n",
    ")"
   ]
  },
  {
   "cell_type": "code",
   "execution_count": null,
   "metadata": {},
   "outputs": [],
   "source": [
    "alt.Chart(meat).mark_square().encode(\n",
    "    alt.X('beef', bin=True),\n",
    "    alt.Y('pork', bin=True),\n",
    "    size='count()',\n",
    "    color = 'veal'\n",
    ")"
   ]
  },
  {
   "cell_type": "code",
   "execution_count": null,
   "metadata": {},
   "outputs": [],
   "source": [
    "dates = list(pd.date_range(start='2019-01-01', end='2019-01-31'))\n",
    "o = [random.randint(30, 60) for _ in range(len(dates))]\n",
    "c = [random.randint(20, 70) for _ in range(len(dates))]\n",
    "ohlc = pd.DataFrame({'Date':dates,\n",
    "                   'Open':o,\n",
    "                   'Close':c\n",
    "                  })\n",
    "ohlc['High'] = ohlc[['Open', 'Close']].max(axis=1) + random.randint(0, 10)\n",
    "ohlc['Low'] = ohlc[['Open', 'Close']].min(axis=1) - random.randint(0, 10)"
   ]
  },
  {
   "cell_type": "code",
   "execution_count": null,
   "metadata": {},
   "outputs": [],
   "source": [
    "open_close_color = alt.condition(\"datum.Open < datum.Close\",\n",
    "                                 alt.value(\"#06982d\"),\n",
    "                                 alt.value(\"#ae1325\"))\n",
    "\n",
    "rule = alt.Chart(ohlc).mark_rule().encode(\n",
    "    alt.X(\n",
    "        'Date:T',\n",
    "        axis=alt.Axis(format='%m/%d', title='Date in 2019 01')\n",
    "    ),\n",
    "    alt.Y(\n",
    "        'Low',\n",
    "        title='Price',\n",
    "        scale=alt.Scale(zero=False),\n",
    "    ),\n",
    "    alt.Y2('High'),\n",
    "    color=open_close_color\n",
    ")\n",
    "\n",
    "bar = alt.Chart(ohlc).mark_bar().encode(\n",
    "    x='Date:T',\n",
    "    y='Open',\n",
    "    y2='Close',\n",
    "    color=open_close_color\n",
    ")\n",
    "\n",
    "rule + bar"
   ]
  },
  {
   "cell_type": "code",
   "execution_count": null,
   "metadata": {},
   "outputs": [],
   "source": [
    "bars = alt.Chart(cars).mark_bar().encode(\n",
    "    x=alt.X('mean(Acceleration):Q'),\n",
    "    y='Origin:O',\n",
    "    color=alt.Color('Origin:O')\n",
    ")\n",
    "\n",
    "text = bars.mark_text(\n",
    "    align='left',\n",
    "    baseline='middle',\n",
    "    dx=3\n",
    ").encode(\n",
    "    text='mean(Acceleration):Q'\n",
    ")\n",
    "\n",
    "bars + text"
   ]
  },
  {
   "cell_type": "code",
   "execution_count": null,
   "metadata": {},
   "outputs": [],
   "source": [
    "alt.Chart(long_meat).mark_tick().encode(\n",
    "    x='Price:Q',\n",
    "    y='Item:O'\n",
    ")"
   ]
  },
  {
   "cell_type": "markdown",
   "metadata": {},
   "source": [
    "### 資料過濾"
   ]
  },
  {
   "cell_type": "code",
   "execution_count": null,
   "metadata": {},
   "outputs": [],
   "source": [
    "# 類別過濾\n",
    "\n",
    "alt.Chart(cars).mark_point().encode(\n",
    "    x='Displacement:Q',\n",
    "    y='Miles_per_Gallon:Q',\n",
    "    color='Origin:N'\n",
    ").transform_filter(\n",
    "    alt.FieldOneOfPredicate(field='Origin', oneOf=['Japan', 'USA'])\n",
    ")"
   ]
  },
  {
   "cell_type": "code",
   "execution_count": null,
   "metadata": {},
   "outputs": [],
   "source": [
    "# 數值過濾\n",
    "\n",
    "alt.Chart(cars).mark_point().encode(\n",
    "    x='Displacement:Q',\n",
    "    y='Miles_per_Gallon:Q',\n",
    "    color='Origin:N'\n",
    ").transform_filter(\n",
    "    {'not': alt.FieldRangePredicate(field='Miles_per_Gallon', range=[8, 20])},    \n",
    ").transform_filter(\n",
    "    alt.FieldRangePredicate(field='Displacement', range=[100, 360])\n",
    ")"
   ]
  },
  {
   "cell_type": "code",
   "execution_count": null,
   "metadata": {},
   "outputs": [],
   "source": [
    "alt.Chart(ohlc).transform_calculate(\n",
    "    mean_price = (alt.datum.High + alt.datum.Low) / 2\n",
    ").mark_line().encode(\n",
    "    alt.X('Date', title='day'),\n",
    "    alt.Y('mean_price:Q', title='Mean Price')\n",
    ")"
   ]
  },
  {
   "cell_type": "markdown",
   "metadata": {},
   "source": [
    "### 資料篩選"
   ]
  },
  {
   "cell_type": "code",
   "execution_count": null,
   "metadata": {},
   "outputs": [],
   "source": [
    "brush = alt.selection_interval()"
   ]
  },
  {
   "cell_type": "code",
   "execution_count": null,
   "metadata": {},
   "outputs": [],
   "source": [
    "alt.Chart(cars).mark_point().encode(\n",
    "    x='Miles_per_Gallon:Q',\n",
    "    y='Horsepower:Q',\n",
    "    color=alt.condition(brush, 'Origin:N', alt.value('lightgray')),\n",
    ").add_selection(\n",
    "    brush\n",
    ")"
   ]
  },
  {
   "cell_type": "code",
   "execution_count": null,
   "metadata": {},
   "outputs": [],
   "source": [
    "chart = alt.Chart(cars).mark_point().encode(\n",
    "    y='Horsepower:Q',\n",
    "    color=alt.condition(brush, 'Origin:N', alt.value('lightgray'))\n",
    ").properties(\n",
    "    width=250,\n",
    "    height=250\n",
    ").add_selection(\n",
    "    brush\n",
    ")\n",
    "\n",
    "chart.encode(x='Acceleration:Q') | chart.encode(x='Miles_per_Gallon:Q')"
   ]
  },
  {
   "cell_type": "code",
   "execution_count": null,
   "metadata": {},
   "outputs": [],
   "source": [
    "single = alt.selection_single()\n",
    "\n",
    "alt.Chart(meat).mark_point().encode(\n",
    "    alt.X('beef', bin=True),\n",
    "    alt.Y('pork', bin=True),\n",
    "    size='count()',\n",
    "    color=alt.condition(single, 'count()', alt.value('lightgray'))\n",
    ").add_selection(\n",
    "    single\n",
    ")"
   ]
  },
  {
   "cell_type": "code",
   "execution_count": null,
   "metadata": {},
   "outputs": [],
   "source": [
    "input_dropdown = alt.binding_select(options=['beef','pork','veal'])\n",
    "\n",
    "selection = alt.selection_single(fields=['Item'], \n",
    "                                 bind=input_dropdown, \n",
    "                                 name='Meat')\n",
    "color = alt.condition(selection,\n",
    "                      alt.Color('Item:N', legend=None),\n",
    "                      alt.value('lightgray'))\n",
    "\n",
    "alt.Chart(long_meat).mark_line().encode(\n",
    "    x='date:T',\n",
    "    y='Price:Q',\n",
    "    color=color\n",
    ").add_selection(\n",
    "    selection\n",
    ").transform_filter(\n",
    "    selection\n",
    ")"
   ]
  },
  {
   "cell_type": "markdown",
   "metadata": {},
   "source": [
    "### 圖形分面"
   ]
  },
  {
   "cell_type": "code",
   "execution_count": null,
   "metadata": {},
   "outputs": [],
   "source": [
    "alt.Chart(long_meat).mark_line().encode(\n",
    "    x='date:T',\n",
    "    y='Price:Q',\n",
    "    color=alt.Color('Item:N')\n",
    ").properties(\n",
    "    width=180,\n",
    "    height=180\n",
    ").facet(\n",
    "    column='Item:N'\n",
    ")"
   ]
  },
  {
   "cell_type": "code",
   "execution_count": null,
   "metadata": {},
   "outputs": [],
   "source": [
    "base = alt.Chart(meat).mark_point().encode(\n",
    "    alt.X(alt.repeat(\"column\"), type='quantitative'),\n",
    "    alt.Y(alt.repeat(\"row\"), type='quantitative'),\n",
    ").properties(\n",
    "    width=200,\n",
    "    height=200\n",
    ").repeat(\n",
    "    row=['beef', 'pork', 'veal'],\n",
    "    column=['beef', 'pork', 'veal']\n",
    ").interactive()\n",
    "\n",
    "base"
   ]
  },
  {
   "cell_type": "markdown",
   "metadata": {},
   "source": [
    "### 保存圖片"
   ]
  },
  {
   "cell_type": "code",
   "execution_count": null,
   "metadata": {},
   "outputs": [],
   "source": [
    "base.save('chart.html')\n",
    "chart.save('chart.json')\n",
    "\n",
    "## 需安裝selenium\n",
    "## pip3 install selenium\n",
    "\n",
    "# chart.save('chart.png', scale_factor=2.0)\n",
    "# chart.save('chart.svg', scale_factor=2.0)"
   ]
  },
  {
   "cell_type": "markdown",
   "metadata": {},
   "source": [
    "### 案例 : 歷年性別人口數"
   ]
  },
  {
   "cell_type": "code",
   "execution_count": null,
   "metadata": {},
   "outputs": [],
   "source": [
    "# https://www.ris.gov.tw/346\n",
    "# 歷年全國人口統計資料（括弧內為資料起始年）\n",
    "# A 戶數、人口數及遷入、遷出\n",
    "# 05年底人口按性別及年齡(35\n",
    "\n",
    "# require xlrd\n",
    "import altair as alt\n",
    "from altair.expr import datum, if_\n",
    "from vega_datasets import data\n",
    "\n",
    "alt.renderers.enable('notebook')\n",
    "\n",
    "df = pd.read_excel('data/y1s600000.xls', header=2, sheet=1)"
   ]
  },
  {
   "cell_type": "code",
   "execution_count": null,
   "metadata": {},
   "outputs": [],
   "source": [
    "df.head()"
   ]
  },
  {
   "cell_type": "code",
   "execution_count": null,
   "metadata": {},
   "outputs": [],
   "source": [
    "df = df[df['性別'] != '計']"
   ]
  },
  {
   "cell_type": "code",
   "execution_count": null,
   "metadata": {},
   "outputs": [],
   "source": [
    "df.columns"
   ]
  },
  {
   "cell_type": "code",
   "execution_count": null,
   "metadata": {},
   "outputs": [],
   "source": [
    "df = df.drop(['年　　別','總　　計','Unnamed: 25'], axis=1)"
   ]
  },
  {
   "cell_type": "code",
   "execution_count": null,
   "metadata": {},
   "outputs": [],
   "source": [
    "columns = ['year', 'sex']"
   ]
  },
  {
   "cell_type": "code",
   "execution_count": null,
   "metadata": {},
   "outputs": [],
   "source": [
    "columns.extend([(i+4) for i in range(0,105,5)])"
   ]
  },
  {
   "cell_type": "code",
   "execution_count": null,
   "metadata": {},
   "outputs": [],
   "source": [
    "df.columns = columns"
   ]
  },
  {
   "cell_type": "code",
   "execution_count": null,
   "metadata": {},
   "outputs": [],
   "source": [
    "df.tail()"
   ]
  },
  {
   "cell_type": "code",
   "execution_count": null,
   "metadata": {},
   "outputs": [],
   "source": [
    "df = df[:-2]"
   ]
  },
  {
   "cell_type": "code",
   "execution_count": null,
   "metadata": {},
   "outputs": [],
   "source": [
    "df = df.assign(year = df.year.fillna(method='ffill'))"
   ]
  },
  {
   "cell_type": "code",
   "execution_count": null,
   "metadata": {},
   "outputs": [],
   "source": [
    "df = df.fillna(0)"
   ]
  },
  {
   "cell_type": "code",
   "execution_count": null,
   "metadata": {},
   "outputs": [],
   "source": [
    "df = df.melt(['year', 'sex'], var_name='age', value_name='people')"
   ]
  },
  {
   "cell_type": "code",
   "execution_count": null,
   "metadata": {},
   "outputs": [],
   "source": [
    "dat = df.to_dict('records')"
   ]
  },
  {
   "cell_type": "code",
   "execution_count": null,
   "metadata": {},
   "outputs": [],
   "source": [
    "df.year = df.year.astype(float)\n",
    "df.age = df.age.astype(int)\n",
    "df.people = df.people.astype(int)"
   ]
  },
  {
   "cell_type": "code",
   "execution_count": null,
   "metadata": {},
   "outputs": [],
   "source": [
    "slider = alt.binding_range(min = df.year.min(), max = df.year.max(), step=1)\n",
    "select_year = alt.selection_single(name='year', fields=['year'], bind=slider)\n",
    "\n",
    "base = alt.Chart(df).add_selection(\n",
    "    select_year\n",
    ").transform_filter(\n",
    "    select_year\n",
    ").transform_calculate(\n",
    "    gender=if_(datum.sex == '男', '男', '女')\n",
    ")\n",
    "\n",
    "\n",
    "title = alt.Axis(title='人口數')\n",
    "color_scale = alt.Scale(domain=['男', '女'],\n",
    "                        range=['#1f77b4', '#e377c2'])\n",
    "\n",
    "left = base.transform_filter(\n",
    "    datum.gender == '男'\n",
    ").encode(\n",
    "    y=alt.X('age:O', axis=None, sort=alt.SortOrder('descending')),\n",
    "    x=alt.X('sum(people):Q', axis=title, sort=alt.SortOrder('descending'))\n",
    "#     ,color=alt.Color('sex:N', scale=color_scale, legend=None)\n",
    ").mark_bar(color='#1f77b4').properties(title='男')\n",
    "\n",
    "middle = base.encode(\n",
    "    y=alt.X('age:O', axis=None, sort=alt.SortOrder('descending')),\n",
    "    text=alt.Text('age:Q'),\n",
    ").mark_text().properties(width=20)\n",
    "\n",
    "right = base.transform_filter(\n",
    "    datum.gender == '女'\n",
    ").encode(\n",
    "    y=alt.X('age:O', axis=None, sort=alt.SortOrder('descending')),\n",
    "    x=alt.X('sum(people):Q', axis=title)\n",
    "#     ,color=alt.Color('sex:N', scale=color_scale, legend=None)\n",
    ").mark_bar(color='#e377c2').properties(title='女')\n",
    "\n",
    "\n",
    "left | middle | right"
   ]
  }
 ],
 "metadata": {
  "kernelspec": {
   "display_name": "Python 3",
   "language": "python",
   "name": "python3"
  },
  "language_info": {
   "codemirror_mode": {
    "name": "ipython",
    "version": 3
   },
   "file_extension": ".py",
   "mimetype": "text/x-python",
   "name": "python",
   "nbconvert_exporter": "python",
   "pygments_lexer": "ipython3",
   "version": "3.6.6"
  }
 },
 "nbformat": 4,
 "nbformat_minor": 2
}
