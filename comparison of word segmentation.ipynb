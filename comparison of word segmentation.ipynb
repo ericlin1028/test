{
 "cells": [
  {
   "cell_type": "code",
   "execution_count": 4,
   "metadata": {},
   "outputs": [],
   "source": [
    "from word_segmentation import word_segmentation_vector\n",
    "import warnings\n",
    "warnings.filterwarnings(\"ignore\")"
   ]
  },
  {
   "cell_type": "code",
   "execution_count": 5,
   "metadata": {},
   "outputs": [],
   "source": [
    "def display_word_segmentation(text,text_id=['row_id']):\n",
    "    print(text)\n",
    "    display_methods = ['ckip','jieba_tw','AAT_WS']\n",
    "    for method in display_methods:\n",
    "        result = word_segmentation_vector(method = method).\\\n",
    "                run_ws((text_id,[text]),\\\n",
    "                            ('article_id','title_string_ws'),\n",
    "                            batch_size=None)\n",
    "        output_ws = ' | '.join(result[0]['title_string_ws'])\n",
    "        print(method,' method:\\n',output_ws)"
   ]
  },
  {
   "cell_type": "code",
   "execution_count": 6,
   "metadata": {
    "scrolled": false
   },
   "outputs": [
    {
     "name": "stdout",
     "output_type": "stream",
     "text": [
      "2003年沙士一役，港大新發病毒性疾病學講座教授管軼在廣州野味市場的果子狸身上，找到感染人類的沙士冠狀病毒，找到元兇遏止疫情擴散，成為沙士抗疫英雄。事隔17年，他本周二三（21、22日），與團隊到武漢考察，但找不到源頭，「源頭被銷毀得乾乾淨淨，這裏似乎不歡迎專家」，他對內地傳媒說，估計武漢感染規模大沙士十倍起跳，又說政府不作為，無奈做「逃兵」訂機票返港，感到極其無力。\n",
      "ckip  method:\n",
      " 2003年 | 沙士 | 一 | 役 | ， | 港大 | 新發病毒性 | 疾病學 | 講座 | 教授 | 管軼 | 在 | 廣州 | 野味 | 市場 | 的 | 果子狸 | 身 | 上 | ， | 找到 | 感染 | 人類 | 的 | 沙士 | 冠狀 | 病毒 | ， | 找到 | 元兇 | 遏止 | 疫情 | 擴散 | ， | 成為 | 沙士 | 抗疫 | 英雄 | 。 | 事 | 隔 | 17 | 年 | ， | 他 | 本 | 周 | 二三 | （ | 21 | 、 | 22日 | ） | ， | 與 | 團隊 | 到 | 武漢 | 考察 | ， | 但 | 找 | 不 | 到 | 源頭 | ， | 「 | 源頭 | 被 | 銷毀 | 得 | 乾乾淨淨 | ， | 這裏 | 似乎 | 不 | 歡迎 | 專家 | 」 | ， | 他 | 對 | 內地 | 傳媒 | 說 | ， | 估計 | 武漢 | 感染 | 規模 | 大 | 沙士 | 十 | 倍 | 起跳 | ， | 又 | 說 | 政府 | 不 | 作為 | ， | 無奈 | 做 | 「 | 逃兵 | 」 | 訂 | 機票 | 返 | 港 | ， | 感到 | 極其 | 無力 | 。\n",
      "it had been completed  1/1\n",
      "jieba_tw  method:\n",
      " 2003 | 年 | 沙士 | 一役 | ， | 港大 | 新 | 發 | 病毒性 | 疾病 | 學 | 講座 | 教授 | 管軼 | 在 | 廣州 | 野味 | 市場 | 的 | 果子狸 | 身 | 上 | ， | 找到 | 感染 | 人類 | 的 | 沙士 | 冠狀 | 病毒 | ， | 找到 | 元兇 | 遏止 | 疫情 | 擴散 | ， | 成為 | 沙士 | 抗疫 | 英雄 | 。 | 事隔 | 17 | 年 | ， | 他 | 本 | 周二 | 三 | （ | 21 | 、 | 22 | 日 | ） | ， | 與 | 團隊 | 到 | 武漢 | 考察 | ， | 但 | 找 | 不 | 到 | 源頭 | ， | 「 | 源頭 | 被 | 銷毀 | 得 | 乾乾淨淨 | ， | 這裏 | 似乎 | 不 | 歡迎 | 專家 | 」 | ， | 他 | 對 | 內地 | 傳媒 | 說 | ， | 估計 | 武漢 | 感染 | 規模 | 大 | 沙士 | 十倍 | 起跳 | ， | 又 | 說 | 政府 | 不 | 作為 | ， | 無奈 | 做 | 「 | 逃兵 | 」 | 訂 | 機票 | 返港 | ， | 感到 | 極其 | 無力 | 。\n",
      "AAT_WS  method:\n",
      " 似乎 | 教授 | 極其 | 無奈 | 內地 | 英雄 | 找到 | 疾病 | 歡迎 | 機票 | 專家 | 身上 | 遏止 | 逃兵 | 無力 | 講座 | 人類 | 估計 | 乾乾淨淨 | 市場 | 起跳 | 冠狀病毒 | 源頭 | 野味 | 政府 | 規模 | 團隊 | 沙士 | 發病 | 銷毀 | 不作為 | 不到 | 感染 | 果子狸\n"
     ]
    }
   ],
   "source": [
    "text1 = '2003年沙士一役，港大新發病毒性疾病學講座教授管軼在廣州野味市場的果子狸身上，找到感染人類的沙士冠狀病毒，找到元兇遏止疫情擴散，成為沙士抗疫英雄。事隔17年，他本周二三（21、22日），與團隊到武漢考察，但找不到源頭，「源頭被銷毀得乾乾淨淨，這裏似乎不歡迎專家」，他對內地傳媒說，估計武漢感染規模大沙士十倍起跳，又說政府不作為，無奈做「逃兵」訂機票返港，感到極其無力。'\n",
    "display_word_segmentation(text1)"
   ]
  },
  {
   "cell_type": "code",
   "execution_count": 8,
   "metadata": {},
   "outputs": [
    {
     "name": "stdout",
     "output_type": "stream",
     "text": [
      "農曆新年將至，又是逗利是的時候，打工仔也可望收到開工利是。滙豐連續第二年向本港員工派發電子利是，每位500元，將在員工下一個出糧日透過出糧戶口發放。滙豐香港區行政總裁施穎茵向香港員工發出電郵，宣布派發電子利是的消息。她於電郵內表示，十分感謝同事對公司print (f'jieba result: \n",
      "{get_jieba_tokenization(text2)}\n",
      "ckip  method:\n",
      " 農曆 | 新年 | 將 | 至 | ， | 又 | 是 | 逗利 | 是 | 的 | 時候 | ， | 打工仔 | 也 | 可望 | 收到 | 開工利 | 是 | 。 | 滙豐 | 連續 | 第二 | 年 | 向 | 本 | 港 | 員工 | 派發 | 電子 | 利 | 是 | ， | 每 | 位 | 500 | 元 | ， | 將 | 在 | 員工 | 下 | 一 | 個 | 出糧日 | 透過 | 出糧 | 戶口 | 發放 | 。 | 滙豐 | 香港區 | 行政 | 總裁 | 施穎茵 | 向 | 香港 | 員工 | 發出 | 電郵 | ， | 宣布派 | 發 | 電子 | 利 | 是 | 的 | 消息 | 。 | 她 | 於 | 電郵 | 內 | 表示 | ， | 十分 | 感謝 | 同事 | 對 | 公司 | print  | ( | f'jieba result: \n",
      "{get_jieba_tokenization | ( | text2 | ) | }\n",
      "it had been completed  1/1\n",
      "jieba_tw  method:\n",
      " 農曆 | 新年 | 將 | 至 | ， | 又 | 是 | 逗利 | 是 | 的 | 時候 | ， | 打工仔 | 也 | 可望 | 收到 | 開工 | 利是 | 。 | 滙豐 | 連續 | 第二年 | 向 | 本港 | 員工 | 派發 | 電子 | 利是 | ， | 每 | 位 | 500 | 元 | ， | 將 | 在 | 員工 | 下 | 一 | 個 | 出糧日 | 透過 | 出糧 | 戶口 | 發放 | 。 | 滙豐 | 香港區 | 行政 | 總裁 | 施穎茵 | 向 | 香港 | 員工 | 發出 | 電郵 | ， | 宣布 | 派發 | 電子 | 利是 | 的 | 消息 | 。 | 她 | 於 | 電郵 | 內 | 表示 | ， | 十分 | 感謝 | 同事 | 對 | 公司 | print |   | ( | f | ' | jieba |   | result | : |   | \n",
      " | { | get | _ | jieba | _ | tokenization | ( | text2 | ) | }\n",
      "AAT_WS  method:\n",
      " 行政 | 總裁 | 表示 | 出糧 | 連續 | 每位 | 宣布 | 員工 | 公司 | 新年 | 同事 | 是的 | 也可 | 消息 | 第二 | 戶口 | 時候 | 農曆 | 香港 | 感謝 | 打工 | 十分 | 又是 | 發電 | 發放 | 透過 | 發出 | 開工\n"
     ]
    }
   ],
   "source": [
    "text2 = \"農曆新年將至，又是逗利是的時候，打工仔也可望收到開工利是。滙豐連續第二年向本港員工派發電子利是，每位500元，將在員工下一個出糧日透過出糧戶口發放。滙豐香港區行政總裁施穎茵向香港員工發出電郵，宣布派發電子利是的消息。她於電郵內表示，十分感謝同事對公司print (f'jieba result: \\n{get_jieba_tokenization(text2)}\"\n",
    "display_word_segmentation(text2 )"
   ]
  },
  {
   "cell_type": "code",
   "execution_count": 9,
   "metadata": {},
   "outputs": [
    {
     "name": "stdout",
     "output_type": "stream",
     "text": [
      "大阪、京都、奈良、神戶是親子遊的熱門路線，其實除了京阪神，從大阪玩到鳥取也是不錯選擇！\n",
      "ckip  method:\n",
      " 大阪 | 、 | 京都 | 、 | 奈良 | 、 | 神戶 | 是 | 親子 | 遊 | 的 | 熱門 | 路線 | ， | 其實 | 除了 | 京阪神 | ， | 從 | 大阪 | 玩 | 到 | 鳥取 | 也 | 是 | 不錯 | 選擇 | ！\n",
      "it had been completed  1/1\n",
      "jieba_tw  method:\n",
      " 大阪 | 、 | 京都 | 、 | 奈良 | 、 | 神戶 | 是 | 親子 | 遊 | 的 | 熱門 | 路線 | ， | 其實 | 除了 | 京阪 | 神 | ， | 從 | 大阪 | 玩到 | 鳥取 | 也 | 是 | 不錯 | 選擇 | ！\n",
      "AAT_WS  method:\n",
      " 路線 | 大阪 | 選擇 | 也是 | 熱門 | 不錯 | 奈良 | 京都 | 其實 | 神戶\n"
     ]
    }
   ],
   "source": [
    "text3 = \"大阪、京都、奈良、神戶是親子遊的熱門路線，其實除了京阪神，從大阪玩到鳥取也是不錯選擇！\"\n",
    "display_word_segmentation(text3)"
   ]
  },
  {
   "cell_type": "code",
   "execution_count": null,
   "metadata": {},
   "outputs": [],
   "source": []
  }
 ],
 "metadata": {
  "kernelspec": {
   "display_name": "Python 3",
   "language": "python",
   "name": "python3"
  },
  "language_info": {
   "codemirror_mode": {
    "name": "ipython",
    "version": 3
   },
   "file_extension": ".py",
   "mimetype": "text/x-python",
   "name": "python",
   "nbconvert_exporter": "python",
   "pygments_lexer": "ipython3",
   "version": "3.6.10"
  }
 },
 "nbformat": 4,
 "nbformat_minor": 4
}
